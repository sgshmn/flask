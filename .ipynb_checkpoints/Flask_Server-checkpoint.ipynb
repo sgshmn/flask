{
 "cells": [
  {
   "cell_type": "code",
   "execution_count": null,
   "id": "7f822261",
   "metadata": {},
   "outputs": [],
   "source": [
    "!pip install flask"
   ]
  },
  {
   "cell_type": "markdown",
   "id": "55bc6616",
   "metadata": {},
   "source": [
    "## Flask\n",
    "- python 언어를 사용하는 웹 마이크로프레임워크\n",
    "\n",
    "#### render_template : templates폴더 안 html문서를 호출\n",
    "#### request : 요청과 관련된 작업을 수행할 수 있는 라이브러리"
   ]
  },
  {
   "cell_type": "markdown",
   "id": "35a99df3",
   "metadata": {},
   "source": [
    "## Data 전송 방식\n",
    "\n",
    "#### 1. GET 방식 : url에 ?(쿼리스트링) 형식을 통해 Key 와 Value의 쌍으로 전송\n",
    "- 예) 192.168.0.31:5067/cal?num1=3&num2=5\n",
    "\n",
    "#### 2. POST 방식 : \\<body>태그 안에 data가 Key, Value의 쌍으로 전송\n",
    "- "
   ]
  },
  {
   "cell_type": "code",
   "execution_count": null,
   "id": "a1305506",
   "metadata": {},
   "outputs": [],
   "source": [
    "from flask import Flask, render_template, request\n",
    "\n",
    "\n",
    "\n",
    "app = Flask(__name__)\n",
    "\n",
    "@app.route('/')\n",
    "def index():\n",
    "    return render_template('index.html') # html 문서가 들어간다\n",
    "\n",
    "@app.route('/cal', methods=['GET', 'POST'])\n",
    "def cal():\n",
    "    if request.method == 'GET': # python에서는 대문자로 쓰고 html에서는 소문자로 쓴다\n",
    "        # GET 방식\n",
    "        print('GET 방식 요청함')\n",
    "        num1 = request.args['num1']\n",
    "        num2 = request.args['num2']\n",
    "        \n",
    "        result = int(num1) + int(num2)\n",
    "        \n",
    "        return f'더하기 결과는 {result}입니다' # 여기에 정수가 들어가면 안 되더라\n",
    "        \n",
    "    elif request.method == 'POST':\n",
    "        # POST 방식\n",
    "        print('POST 방식 요청함')\n",
    "    return '<h1>계산 실패</h1>'\n",
    "\n",
    "@app.route('/login', methods=['POST']) # 이렇게 하면 get 방식 요청에는 오류가 발생한다\n",
    "def login():\n",
    "    if request.method == 'POST':\n",
    "        login_id = request.form['id']\n",
    "        login_pw = request.form['pw']\n",
    "        \n",
    "        if login_id == 'yyw' and login_pw == '1234':\n",
    "            return '로그인 성공'\n",
    "        else:\n",
    "            return '로그인 실패'\n",
    "    else:\n",
    "        return '땡!' # 아직은 이 문구를 보여줄 수 없다 \n",
    "\n",
    "if __name__ == '__main__':\n",
    "    app.run(host='192.168.21.136', port=5067) # ('192.168.21.136', 5067) 괄호를 이렇게 해도 알아 먹는다\n",
    "    \n",
    "# 127.0.0.1을 localhost 로 바꿔도 같은 페이지가 나온다"
   ]
  },
  {
   "cell_type": "markdown",
   "id": "ba64bfe7",
   "metadata": {},
   "source": [
    "- 다른 기종끼리, 다른 언어끼리 data를 전송하기도 한다\n",
    "- csv(comma seperated value) : yyw,26\n",
    "- xml(extended markup language) : \\<name>yyw\\</name>\\<age>26\\</age>\n",
    "- json(java script object notation) : {\"name\":\"yyw\", \"age\":26}"
   ]
  },
  {
   "cell_type": "code",
   "execution_count": 1,
   "id": "c044e8f5",
   "metadata": {},
   "outputs": [
    {
     "name": "stdout",
     "output_type": "stream",
     "text": [
      "[{'id': 'admin', 'pw': '1234'}, {'id': 'system', 'pw': '12345'}, {'id': 'yyw', 'pw': '1111'}, {'id': 'anfla', 'pw': '7777'}, {'id': 'nafla', 'pw': '7777'}]\n"
     ]
    }
   ],
   "source": [
    "import os\n",
    "import json\n",
    "\n",
    "\n",
    "db = []\n",
    "\n",
    "#yyw 를 출력하려면 어떻게 접근?\n",
    "# db[0][\"id\"] 데이터를 알고 있을 때\n",
    "# for user in db:  모를 때\n",
    "\n",
    "# static 폴더에 db.txt 가 없냐?\n",
    "if not os.path.exists('static/db.txt'):\n",
    "    file = open('static/db.txt', 'w')\n",
    "    \n",
    "    db.append({\"id\":\"admin\", \"pw\":\"1234\"})\n",
    "    db.append({\"id\":\"system\", \"pw\":\"12345\"})\n",
    "    # json : dictionary 다루는 라이브러리\n",
    "     # json to str : json.dumps\n",
    "    str2 = json.dumps(db)\n",
    "    file.write(str2)\n",
    "else:\n",
    "    file = open('static/db.txt', 'r')\n",
    "    db = file.readline() # db는 아직 str\n",
    "    \n",
    "    # str to json : json.loads\n",
    "    database = json.loads(db)\n",
    "    print(database)\n",
    "    \n",
    "file.close()\n",
    "\n",
    "\n",
    "# 회원정보가 담긴 db.txt 파일 불러오자\n",
    "\n"
   ]
  },
  {
   "cell_type": "code",
   "execution_count": 2,
   "id": "7290c188",
   "metadata": {},
   "outputs": [],
   "source": [
    "def login_check(login_id, login_pw):\n",
    "    \n",
    "    for user in database:\n",
    "        if user[\"id\"] == login_id and user[\"pw\"] == login_pw:\n",
    "            return True\n",
    "    \n",
    "    \n",
    "    return False"
   ]
  },
  {
   "cell_type": "code",
   "execution_count": 3,
   "id": "dbc4093f",
   "metadata": {},
   "outputs": [],
   "source": [
    "def sign_in(join_id, join_pw):\n",
    "    # 1. database에 join_id와 join_pw를 dictionary type으로 append\n",
    "    # 2. json to str -> db.txt에 쓰기!\n",
    "    database.append({\"id\":join_id, \"pw\":join_pw})\n",
    "    file = open('static/db.txt', 'w')\n",
    "    str2 = json.dumps(database)\n",
    "    file.write(str2)\n",
    "    file.close()"
   ]
  },
  {
   "cell_type": "code",
   "execution_count": 37,
   "id": "7013fa6b",
   "metadata": {},
   "outputs": [
    {
     "name": "stdout",
     "output_type": "stream",
     "text": [
      " * Serving Flask app \"__main__\" (lazy loading)\n",
      " * Environment: production\n",
      "\u001b[31m   WARNING: This is a development server. Do not use it in a production deployment.\u001b[0m\n",
      "\u001b[2m   Use a production WSGI server instead.\u001b[0m\n",
      " * Debug mode: off\n"
     ]
    },
    {
     "name": "stderr",
     "output_type": "stream",
     "text": [
      " * Running on http://192.168.21.136:5083/ (Press CTRL+C to quit)\n",
      "192.168.21.136 - - [11/Aug/2022 11:23:55] \"GET / HTTP/1.1\" 200 -\n",
      "192.168.21.136 - - [11/Aug/2022 11:23:56] \"GET /select HTTP/1.1\" 200 -\n"
     ]
    }
   ],
   "source": [
    "from flask import Flask, render_template\n",
    "from flask import request, redirect\n",
    "\n",
    "# redirect : page를 이동하는 라이브러리\n",
    "\n",
    "app = Flask(__name__)\n",
    "\n",
    "@app.route('/')\n",
    "def index():\n",
    "    return render_template('login.html')\n",
    "\n",
    "@app.route('/login', methods=['POST'])\n",
    "def login():\n",
    "    if request.method == 'POST':\n",
    "        login_id = request.form['id']\n",
    "        login_pw = request.form['pw']\n",
    "        \n",
    "        if login_check(login_id, login_pw):\n",
    "            return '로그인 성공'\n",
    "        else:\n",
    "            return '로그인 실패'\n",
    "        \n",
    "@app.route('/join', methods=['POST'])\n",
    "def join_member():\n",
    "    \n",
    "    if request.method == 'POST':\n",
    "        join_id = request.form['id']\n",
    "        join_pw = request.form['pw']\n",
    "        join_name = request.form['name']\n",
    "        join(join_id, join_pw, join_name)\n",
    "        \n",
    "        # 성공 실패 여부 상관없이\n",
    "        # '/' 경로로 보내자\n",
    "        return redirect('/') # http:// ... 을 써도 된다\n",
    "    \n",
    "@app.route('/select')\n",
    "def select_member():\n",
    "    \n",
    "    # DB를 통해 전체 회원 조회\n",
    "    result = select()\n",
    "#     result = \"전체회원\"\n",
    "    return result\n",
    "\n",
    "if __name__=='__main__':\n",
    "    app.run(host='192.168.21.136', port=5083)"
   ]
  },
  {
   "cell_type": "markdown",
   "id": "2bafb374",
   "metadata": {},
   "source": [
    "# Python - Oracle DB 연동\n",
    "## 1. 드라이버 설치 (Oracle Instant Client) 오라클 공홈에 있음\n",
    "## 2. 드라이버 경로 잡기\n",
    "- Python Oracle DB 연동 라이브러리 설치. cx_Oracle"
   ]
  },
  {
   "cell_type": "code",
   "execution_count": 7,
   "id": "fb50fec0",
   "metadata": {},
   "outputs": [
    {
     "name": "stdout",
     "output_type": "stream",
     "text": [
      "Collecting cx_Oracle\n",
      "  Downloading cx_Oracle-8.3.0-cp39-cp39-win_amd64.whl (213 kB)\n",
      "Installing collected packages: cx-Oracle\n",
      "Successfully installed cx-Oracle-8.3.0\n"
     ]
    }
   ],
   "source": [
    "!pip install cx_Oracle"
   ]
  },
  {
   "cell_type": "code",
   "execution_count": 8,
   "id": "7605e046",
   "metadata": {},
   "outputs": [],
   "source": [
    "import os\n",
    "\n",
    "\n",
    "# 오라클 드라이버 경로\n",
    "Location = r\"C:\\python_workspace\\Server\\instantclient-basic-windows.x64-21.6.0.0.0dbru\\instantclient_21_6\"\n",
    "# r 이 있어야 이스케이프 코드 \\를 무시한다\n",
    "\n",
    "# 환경변수 등록하는 함수\n",
    "os.environ[\"PATH\"] = Location + \";\" + os.environ[\"PATH\"]"
   ]
  },
  {
   "cell_type": "markdown",
   "id": "ad034164",
   "metadata": {},
   "source": [
    "# Python - Oracle DB 연동 4단계\n",
    "### 1. 드라이버 설치\n",
    "### 2. Connection 생성 \n",
    "### 3. Cursor 생성\n",
    "### 4. 연결 종료"
   ]
  },
  {
   "cell_type": "markdown",
   "id": "6555e169",
   "metadata": {},
   "source": [
    "### 2. Connection 생성"
   ]
  },
  {
   "cell_type": "code",
   "execution_count": 24,
   "id": "fea50e7c",
   "metadata": {},
   "outputs": [],
   "source": [
    "import cx_Oracle as db\n",
    "\n",
    "def login_check(login_id, login_pw):\n",
    "\n",
    "    db_id = 'hr'\n",
    "    db_pw = 'hr'\n",
    "    url = '192.168.21.136:1521/xe' # 'localhost'하면 내거는 들어갈 수 있다. oracle은 port가 1521이다. /xe는 오라클 버전을 말한다\n",
    "                                                                                            # ExpressEdition\n",
    "    conn = db.connect(db_id, db_pw, url)\n",
    "\n",
    "# 3. Cursor 생성 (얘가 SQL문을 전달한다)\n",
    "# Select 결과를 받아오기도 한다\n",
    "\n",
    "    curs = conn.cursor()\n",
    "\n",
    "\n",
    "# 로그인 알고리즘\n",
    "# 외부로부터 login_id, login_pw 가 들어온다\n",
    "# select pw from member where id = 'login_id'\n",
    "\n",
    "\n",
    "# login_id = 'admin'\n",
    "# login_pw  = '1234' 테스트 데이터\n",
    "\n",
    "    sql = f\"select PW from member where ID = '{login_id}'\" # 따옴표 사용에 주의!!!!!\n",
    "    curs.execute(sql) # sql을 전달해서 실행 ㅎ\n",
    "    \n",
    "    result = curs.fetchall() # sql 결과?\n",
    "    curs.close()\n",
    "    conn.close()\n",
    "    try:\n",
    "        if login_pw == result[0][0]:\n",
    "            return True\n",
    "        else:\n",
    "            return False\n",
    "    except:\n",
    "        \n",
    "        return False\n",
    "    \n"
   ]
  },
  {
   "cell_type": "markdown",
   "id": "b103d487",
   "metadata": {},
   "source": [
    "## 회원가입"
   ]
  },
  {
   "cell_type": "markdown",
   "id": "4c86e20b",
   "metadata": {},
   "source": [
    "### 1. 드라이버 설치\n",
    "### 2. 커넥션 생성 (db_id, db_pw, url)\n",
    "### 3. 커서 생성 (sql문을 전달, 쿼리 결과를 받기도 함)\n",
    "### 4. 연결 종료"
   ]
  },
  {
   "cell_type": "code",
   "execution_count": 25,
   "id": "fa29ce19",
   "metadata": {},
   "outputs": [],
   "source": [
    "import cx_Oracle as db\n",
    "\n",
    "def join(join_id, join_pw, join_name):\n",
    "    \n",
    "    db_id = 'hr'\n",
    "    db_pw = 'hr'\n",
    "    url = '192.168.21.136:1521/xe' # ip주소:DB포트번호/DB버전\n",
    "\n",
    "    conn = db.connect(db_id, db_pw, url)\n",
    "\n",
    "    curs = conn.cursor()\n",
    "\n",
    "    sql = \"insert into member(id, pw, name) values(:1, :2, :3)\"\n",
    "\n",
    "    curs.execute(sql , (join_id, join_pw, join_name))\n",
    "\n",
    "    conn.commit()\n",
    "\n",
    "    # data통로는 여는 순서의 역순으로 닫는다\n",
    "    curs.close() \n",
    "    conn.close()"
   ]
  },
  {
   "cell_type": "code",
   "execution_count": 5,
   "id": "d072abb7",
   "metadata": {},
   "outputs": [],
   "source": [
    "'column id format a16;'\n",
    "'column pw format a16;'\n",
    "'column name format a16;'"
   ]
  },
  {
   "cell_type": "code",
   "execution_count": 36,
   "id": "7137be24",
   "metadata": {},
   "outputs": [],
   "source": [
    "import cx_Oracle as db\n",
    "\n",
    "def select():\n",
    "    \n",
    "    db_id = 'hr'\n",
    "    db_pw = 'hr'\n",
    "    url = '192.168.21.136:1521/xe' # 기본주소 : localhost:1521/xe\n",
    "    \n",
    "    conn = db.connect(db_id, db_pw, url)\n",
    "    curs = conn.cursor()\n",
    "    \n",
    "    sql = 'select * from member'\n",
    "    \n",
    "    rs = curs.execute(sql) # rs : resultset의 약자\n",
    "    result = rs.fetchall() # rs에 담긴 정보를 튜플이 담긴 리스트 형태로 받는다\n",
    "                           # 그런데 바로 리스트를 리턴할 수 없다 문자열, html 만 가능하다\n",
    "    \n",
    "    r = '</br>'.join(map(str, result))\n",
    "    return r"
   ]
  },
  {
   "cell_type": "code",
   "execution_count": null,
   "id": "48b79104",
   "metadata": {},
   "outputs": [],
   "source": []
  },
  {
   "cell_type": "code",
   "execution_count": null,
   "id": "3691746c",
   "metadata": {},
   "outputs": [],
   "source": []
  },
  {
   "cell_type": "code",
   "execution_count": null,
   "id": "139799db",
   "metadata": {},
   "outputs": [],
   "source": []
  }
 ],
 "metadata": {
  "kernelspec": {
   "display_name": "Python 3 (ipykernel)",
   "language": "python",
   "name": "python3"
  },
  "language_info": {
   "codemirror_mode": {
    "name": "ipython",
    "version": 3
   },
   "file_extension": ".py",
   "mimetype": "text/x-python",
   "name": "python",
   "nbconvert_exporter": "python",
   "pygments_lexer": "ipython3",
   "version": "3.9.12"
  }
 },
 "nbformat": 4,
 "nbformat_minor": 5
}
