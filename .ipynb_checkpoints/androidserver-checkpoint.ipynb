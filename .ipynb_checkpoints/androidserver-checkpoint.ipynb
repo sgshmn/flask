{
 "cells": [
  {
   "cell_type": "code",
   "execution_count": 2,
   "id": "b94a0f90",
   "metadata": {},
   "outputs": [
    {
     "name": "stdout",
     "output_type": "stream",
     "text": [
      "Requirement already satisfied: flask in c:\\anaconda3\\lib\\site-packages (1.1.2)\n",
      "Requirement already satisfied: itsdangerous>=0.24 in c:\\anaconda3\\lib\\site-packages (from flask) (2.0.1)\n",
      "Requirement already satisfied: Jinja2>=2.10.1 in c:\\anaconda3\\lib\\site-packages (from flask) (2.11.3)\n",
      "Requirement already satisfied: click>=5.1 in c:\\anaconda3\\lib\\site-packages (from flask) (8.0.4)\n",
      "Requirement already satisfied: Werkzeug>=0.15 in c:\\anaconda3\\lib\\site-packages (from flask) (2.0.3)\n",
      "Requirement already satisfied: colorama in c:\\anaconda3\\lib\\site-packages (from click>=5.1->flask) (0.4.4)\n",
      "Requirement already satisfied: MarkupSafe>=0.23 in c:\\anaconda3\\lib\\site-packages (from Jinja2>=2.10.1->flask) (2.0.1)\n",
      "Requirement already satisfied: cx_Oracle in c:\\anaconda3\\lib\\site-packages (8.3.0)\n"
     ]
    }
   ],
   "source": [
    "!pip install flask\n",
    "!pip install cx_Oracle --upgrade"
   ]
  },
  {
   "cell_type": "code",
   "execution_count": 4,
   "id": "925eb3e4",
   "metadata": {},
   "outputs": [],
   "source": [
    "import os\n",
    "\n",
    "location = r\"C:\\python_workspace\\Server\\instantclient-basic-windows.x64-21.6.0.0.0dbru\\instantclient_21_6\"\n",
    "os.environ[\"PATH\"] = location + \";\" + os.environ[\"PATH\"]"
   ]
  },
  {
   "cell_type": "code",
   "execution_count": 10,
   "id": "0be168c4",
   "metadata": {},
   "outputs": [
    {
     "name": "stdout",
     "output_type": "stream",
     "text": [
      "[('admin', '1234', 'administrator', 'gjaischool')]\n"
     ]
    }
   ],
   "source": [
    "# 데이터베이스 연동해서 andmember의 회원정보 읽어오기\n",
    "import cx_Oracle as db\n",
    "\n",
    "\n",
    "db_id = 'hr'\n",
    "db_pw = 'hr'\n",
    "url = '192.168.21.194:1521/xe' # localhost로 시작해도 ㄱㅊ 예 localhost:1521/xe\n",
    "\n",
    "conn = db.connect(db_id, db_pw, url)\n",
    "\n",
    "curs = conn.cursor()\n",
    "sql = \"select * from andmember\"\n",
    "\n",
    "curs.execute(sql)\n",
    "result = curs.fetchall()\n",
    "print(result)\n",
    "curs.close()\n",
    "conn.close()\n",
    "\n",
    "\n"
   ]
  },
  {
   "cell_type": "code",
   "execution_count": 11,
   "id": "9995e13d",
   "metadata": {},
   "outputs": [],
   "source": [
    "import cx_Oracle as db\n",
    "\n",
    "\n",
    "db_id = 'hr'\n",
    "db_pw = 'hr'\n",
    "url = '192.168.21.194:1521/xe' # localhost로 시작해도 ㄱㅊ 예 localhost:1521/xe\n",
    "\n",
    "conn = db.connect(db_id, db_pw, url)\n",
    "\n",
    "curs = conn.cursor()\n",
    "sql = \"insert into andmember values('yyw', '1234', 'yi', 'earth')\"\n",
    "\n",
    "curs.execute(sql)\n",
    "conn.commit()\n",
    "\n",
    "curs.close()\n",
    "conn.close()"
   ]
  },
  {
   "cell_type": "code",
   "execution_count": 5,
   "id": "59c83865",
   "metadata": {},
   "outputs": [
    {
     "name": "stdout",
     "output_type": "stream",
     "text": [
      " * Serving Flask app \"__main__\" (lazy loading)\n",
      " * Environment: production\n",
      "\u001b[31m   WARNING: This is a development server. Do not use it in a production deployment.\u001b[0m\n",
      "\u001b[2m   Use a production WSGI server instead.\u001b[0m\n",
      " * Debug mode: off\n"
     ]
    },
    {
     "name": "stderr",
     "output_type": "stream",
     "text": [
      " * Running on http://192.168.21.194:5099/ (Press CTRL+C to quit)\n",
      "192.168.21.194 - - [19/Aug/2022 19:20:42] \"POST /list HTTP/1.1\" 200 -\n"
     ]
    },
    {
     "name": "stdout",
     "output_type": "stream",
     "text": [
      "회원목록 요청\n"
     ]
    }
   ],
   "source": [
    "# 플라스크 서버 만들기\n",
    "\n",
    "from flask import Flask, request\n",
    "import cx_Oracle as db\n",
    "import json\n",
    "\n",
    "app = Flask(__name__)\n",
    "\n",
    "db_id = 'hr'\n",
    "db_pw = 'hr'\n",
    "url = '192.168.21.194:1521/xe'\n",
    "\n",
    "@app.route('/join', methods=['POST'])\n",
    "def join():\n",
    "    print('회원가입 요청')\n",
    "    \n",
    "    join_id = request.form['id']\n",
    "    join_pw = request.form['pw']\n",
    "    join_nick = request.form['nick']\n",
    "    join_addr = request.form['addr']\n",
    "\n",
    "    conn = db.connect(db_id, db_pw, url)\n",
    "    curs = conn.cursor()\n",
    "    \n",
    "    sql = f\"insert into andmember values('{join_id}', '{join_pw}', '{join_nick}', '{join_addr}')\"\n",
    "    curs.execute(sql)\n",
    "    conn.commit()\n",
    "    \n",
    "    curs.close()\n",
    "    conn.close()\n",
    "    \n",
    "    return '안녕'\n",
    "\n",
    "@app.route('/login', methods=['POST'])\n",
    "def login():\n",
    "    \n",
    "    print('로그인 요청')\n",
    "    \n",
    "    login_id = request.form['id']\n",
    "    login_pw = request.form['pw']\n",
    "    \n",
    "    conn = db.connect(db_id, db_pw, url)\n",
    "    curs = conn.cursor()\n",
    "    \n",
    "    sql = f\"select * from andmember where id = '{login_id}' and pw = '{login_pw}'\"\n",
    "    curs.execute(sql)\n",
    "    result = curs.fetchall()\n",
    "    \n",
    "    curs.close()\n",
    "    conn.close()\n",
    "    \n",
    "    # json을 한번 써보자. 요즘엔 다들 이거 쓴다\n",
    "    # 실패\n",
    "#     jsonStr = \"\"\"{\"id\":\"{}\",\"pw\":\"{}\",\"name\":\"{}\",\"addr\":\"{}\"}\"\"\".format(result[0][0], result[0][1], result[0][2], result[0][3])\n",
    "    \n",
    "    \n",
    "    return \"{},{},{},{}\".format(result[0][0], result[0][1], result[0][2], result[0][3])\n",
    "\n",
    "@app.route('/list', methods=['POST'])\n",
    "def list():\n",
    "    print(\"회원목록 요청\")\n",
    "    \n",
    "    conn = db.connect(db_id, db_pw, url)\n",
    "    curs = conn.cursor()\n",
    "    \n",
    "    sql = f\"select * from andmember\"\n",
    "    curs.execute(sql)\n",
    "    result = curs.fetchall()\n",
    "    \n",
    "    curs.close()\n",
    "    conn.close()\n",
    "    \n",
    "    res = \"\"\n",
    "    for mem in result:\n",
    "        for m in range(len(mem)-1):\n",
    "            res += mem[m] + \",\"\n",
    "        res += mem[len(mem)-1] + '/'\n",
    "    \n",
    "    return res\n",
    "\n",
    "@app.route('/delete')\n",
    "def delete():\n",
    "    conn = db.connect(db_id, db_pw, url)\n",
    "    curs = conn.cursor()\n",
    "    \n",
    "    delete_id = curs.form['id']\n",
    "    delete_pw = curs.form['pw']\n",
    "    \n",
    "    sql = f\"delete from andmember where id = '{delete_id}' and pw = '{delete_pw}'\"\n",
    "    curs.execute(sql)\n",
    "    \n",
    "    conn.commit()\n",
    "    curs.close()\n",
    "    conn.close()\n",
    "    \n",
    "\n",
    "if __name__ == '__main__':\n",
    "    app.run(host=\"192.168.21.194\", port=5099)"
   ]
  },
  {
   "cell_type": "code",
   "execution_count": null,
   "id": "d2cc63b8",
   "metadata": {},
   "outputs": [],
   "source": []
  },
  {
   "cell_type": "code",
   "execution_count": null,
   "id": "76800f1a",
   "metadata": {},
   "outputs": [],
   "source": []
  },
  {
   "cell_type": "code",
   "execution_count": null,
   "id": "209baaa7",
   "metadata": {},
   "outputs": [],
   "source": []
  },
  {
   "cell_type": "code",
   "execution_count": null,
   "id": "99e7ac01",
   "metadata": {},
   "outputs": [],
   "source": []
  },
  {
   "cell_type": "code",
   "execution_count": null,
   "id": "c0fccf4d",
   "metadata": {},
   "outputs": [],
   "source": []
  },
  {
   "cell_type": "code",
   "execution_count": null,
   "id": "9734d365",
   "metadata": {},
   "outputs": [],
   "source": []
  },
  {
   "cell_type": "code",
   "execution_count": null,
   "id": "b89b188a",
   "metadata": {},
   "outputs": [],
   "source": []
  },
  {
   "cell_type": "code",
   "execution_count": null,
   "id": "30d49009",
   "metadata": {},
   "outputs": [],
   "source": []
  },
  {
   "cell_type": "code",
   "execution_count": null,
   "id": "37bc902b",
   "metadata": {},
   "outputs": [],
   "source": []
  },
  {
   "cell_type": "code",
   "execution_count": null,
   "id": "cdc0c8fc",
   "metadata": {},
   "outputs": [],
   "source": []
  },
  {
   "cell_type": "code",
   "execution_count": null,
   "id": "5ce9d944",
   "metadata": {},
   "outputs": [],
   "source": []
  }
 ],
 "metadata": {
  "kernelspec": {
   "display_name": "Python 3 (ipykernel)",
   "language": "python",
   "name": "python3"
  },
  "language_info": {
   "codemirror_mode": {
    "name": "ipython",
    "version": 3
   },
   "file_extension": ".py",
   "mimetype": "text/x-python",
   "name": "python",
   "nbconvert_exporter": "python",
   "pygments_lexer": "ipython3",
   "version": "3.9.12"
  }
 },
 "nbformat": 4,
 "nbformat_minor": 5
}
